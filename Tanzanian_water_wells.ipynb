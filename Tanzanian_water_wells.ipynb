{
 "cells": [
  {
   "cell_type": "code",
   "execution_count": 1,
   "metadata": {},
   "outputs": [],
   "source": [
    "import pandas as pd\n",
    "import numpy as np\n",
    "import category_encoders as ce\n",
    "import xgboost as xgb\n",
    "from sklearn.ensemble import RandomForestClassifier, AdaBoostClassifier, GradientBoostingClassifier,ExtraTreesClassifier\n",
    "from sklearn.preprocessing import LabelEncoder\n",
    "\n",
    "\n",
    "import matplotlib.pyplot as plt\n",
    "import seaborn as sns; sns.set()\n",
    "%matplotlib inline\n",
    "\n",
    "from sklearn.tree import DecisionTreeClassifier\n",
    "from sklearn.linear_model import LogisticRegression\n",
    "from sklearn.preprocessing import KBinsDiscretizer, FunctionTransformer\n",
    "from sklearn.model_selection import cross_val_score\n",
    "from category_encoders import OneHotEncoder\n",
    "from sklearn.pipeline import make_pipeline, Pipeline\n",
    "\n",
    "from sklearn.model_selection import GridSearchCV, train_test_split\n",
    "from sklearn.metrics import roc_auc_score\n",
    "\n",
    "from sklearn.datasets import make_classification\n",
    "from sklearn.model_selection import train_test_split, GridSearchCV\n",
    "from hyperopt import fmin, tpe, hp, STATUS_OK, Trials\n",
    "\n",
    "rng = np.random.RandomState(42)\n",
    "\n",
    "import warnings\n",
    "warnings.filterwarnings(\"ignore\")"
   ]
  },
  {
   "cell_type": "code",
   "execution_count": 2,
   "metadata": {},
   "outputs": [],
   "source": [
    "train = pd.read_csv('water_train.csv')"
   ]
  },
  {
   "cell_type": "code",
   "execution_count": 3,
   "metadata": {},
   "outputs": [],
   "source": [
    "test = pd.read_csv('water_test.csv')"
   ]
  },
  {
   "cell_type": "code",
   "execution_count": 4,
   "metadata": {},
   "outputs": [
    {
     "data": {
      "text/plain": [
       "(59400, 40)"
      ]
     },
     "execution_count": 4,
     "metadata": {},
     "output_type": "execute_result"
    }
   ],
   "source": [
    "train.shape"
   ]
  },
  {
   "cell_type": "code",
   "execution_count": 5,
   "metadata": {},
   "outputs": [
    {
     "data": {
      "text/plain": [
       "(14850, 40)"
      ]
     },
     "execution_count": 5,
     "metadata": {},
     "output_type": "execute_result"
    }
   ],
   "source": [
    "test.shape"
   ]
  },
  {
   "cell_type": "code",
   "execution_count": 6,
   "metadata": {},
   "outputs": [],
   "source": [
    "wtarget = pd.read_csv('water_train_target.csv')"
   ]
  },
  {
   "cell_type": "code",
   "execution_count": 235,
   "metadata": {},
   "outputs": [
    {
     "data": {
      "text/plain": [
       "id                           0\n",
       "amount_tsh                   0\n",
       "date_recorded                0\n",
       "funder                    3635\n",
       "gps_height                   0\n",
       "installer                 3655\n",
       "longitude                    0\n",
       "latitude                     0\n",
       "wpt_name                     0\n",
       "num_private                  0\n",
       "basin                        0\n",
       "subvillage                 371\n",
       "region                       0\n",
       "region_code                  0\n",
       "district_code                0\n",
       "lga                          0\n",
       "ward                         0\n",
       "population                   0\n",
       "public_meeting            3334\n",
       "recorded_by                  0\n",
       "scheme_management         3877\n",
       "scheme_name              28166\n",
       "permit                    3056\n",
       "construction_year            0\n",
       "extraction_type              0\n",
       "extraction_type_group        0\n",
       "extraction_type_class        0\n",
       "management                   0\n",
       "management_group             0\n",
       "payment                      0\n",
       "payment_type                 0\n",
       "water_quality                0\n",
       "quality_group                0\n",
       "quantity                     0\n",
       "quantity_group               0\n",
       "source                       0\n",
       "source_type                  0\n",
       "source_class                 0\n",
       "waterpoint_type              0\n",
       "waterpoint_type_group        0\n",
       "dtype: int64"
      ]
     },
     "execution_count": 235,
     "metadata": {},
     "output_type": "execute_result"
    }
   ],
   "source": [
    "train.isna().sum()"
   ]
  },
  {
   "cell_type": "code",
   "execution_count": 236,
   "metadata": {},
   "outputs": [
    {
     "data": {
      "text/plain": [
       "id                          0\n",
       "amount_tsh                  0\n",
       "date_recorded               0\n",
       "funder                    869\n",
       "gps_height                  0\n",
       "installer                 877\n",
       "longitude                   0\n",
       "latitude                    0\n",
       "wpt_name                    0\n",
       "num_private                 0\n",
       "basin                       0\n",
       "subvillage                 99\n",
       "region                      0\n",
       "region_code                 0\n",
       "district_code               0\n",
       "lga                         0\n",
       "ward                        0\n",
       "population                  0\n",
       "public_meeting            821\n",
       "recorded_by                 0\n",
       "scheme_management         969\n",
       "scheme_name              7092\n",
       "permit                    737\n",
       "construction_year           0\n",
       "extraction_type             0\n",
       "extraction_type_group       0\n",
       "extraction_type_class       0\n",
       "management                  0\n",
       "management_group            0\n",
       "payment                     0\n",
       "payment_type                0\n",
       "water_quality               0\n",
       "quality_group               0\n",
       "quantity                    0\n",
       "quantity_group              0\n",
       "source                      0\n",
       "source_type                 0\n",
       "source_class                0\n",
       "waterpoint_type             0\n",
       "waterpoint_type_group       0\n",
       "dtype: int64"
      ]
     },
     "execution_count": 236,
     "metadata": {},
     "output_type": "execute_result"
    }
   ],
   "source": [
    "test.isna().sum()"
   ]
  },
  {
   "cell_type": "code",
   "execution_count": 56,
   "metadata": {},
   "outputs": [
    {
     "name": "stdout",
     "output_type": "stream",
     "text": [
      "<class 'pandas.core.frame.DataFrame'>\n",
      "RangeIndex: 59400 entries, 0 to 59399\n",
      "Data columns (total 37 columns):\n",
      "amount_tsh               59400 non-null float64\n",
      "date_recorded            59400 non-null float64\n",
      "funder                   59400 non-null float64\n",
      "gps_height               59400 non-null int64\n",
      "installer                59400 non-null float64\n",
      "longitude                59400 non-null float64\n",
      "latitude                 59400 non-null float64\n",
      "num_private              59400 non-null int64\n",
      "basin                    59400 non-null float64\n",
      "region                   59400 non-null float64\n",
      "region_code              59400 non-null int64\n",
      "district_code            59400 non-null int64\n",
      "lga                      59400 non-null float64\n",
      "ward                     59400 non-null float64\n",
      "population               59400 non-null int64\n",
      "public_meeting           59400 non-null float64\n",
      "recorded_by              59400 non-null float64\n",
      "scheme_management        59400 non-null float64\n",
      "scheme_name              59400 non-null float64\n",
      "permit                   59400 non-null float64\n",
      "construction_year        59400 non-null int64\n",
      "extraction_type          59400 non-null float64\n",
      "extraction_type_group    59400 non-null float64\n",
      "extraction_type_class    59400 non-null float64\n",
      "management               59400 non-null float64\n",
      "management_group         59400 non-null float64\n",
      "payment                  59400 non-null float64\n",
      "payment_type             59400 non-null float64\n",
      "water_quality            59400 non-null float64\n",
      "quality_group            59400 non-null float64\n",
      "quantity                 59400 non-null float64\n",
      "quantity_group           59400 non-null float64\n",
      "source                   59400 non-null float64\n",
      "source_type              59400 non-null float64\n",
      "source_class             59400 non-null float64\n",
      "waterpoint_type          59400 non-null float64\n",
      "waterpoint_type_group    59400 non-null float64\n",
      "dtypes: float64(31), int64(6)\n",
      "memory usage: 16.8 MB\n"
     ]
    }
   ],
   "source": [
    "train.info()"
   ]
  },
  {
   "cell_type": "code",
   "execution_count": null,
   "metadata": {},
   "outputs": [],
   "source": [
    "nume = [key for key in dict(train.dtypes) if dict(train.dtypes)[key] in ['int64', 'float64']]"
   ]
  },
  {
   "cell_type": "code",
   "execution_count": 9,
   "metadata": {},
   "outputs": [],
   "source": [
    "#filling missing numerical values with median\n",
    "for col in nume:\n",
    "    if train[col].isna().sum() > 0:\n",
    "        train[col] = train[col].fillna(train[col].median()[0])"
   ]
  },
  {
   "cell_type": "code",
   "execution_count": 10,
   "metadata": {},
   "outputs": [],
   "source": [
    "for col in nume:\n",
    "    if test[col].isna().sum() > 0:\n",
    "        test[col] = test[col].fillna(test[col].median()[0])"
   ]
  },
  {
   "cell_type": "code",
   "execution_count": 11,
   "metadata": {},
   "outputs": [],
   "source": [
    "#filling all other missing values with mode\n",
    "for col in train:\n",
    "    if train[col].isna().sum() > 0:\n",
    "        train[col] = train[col].fillna(train[col].mode()[0])"
   ]
  },
  {
   "cell_type": "code",
   "execution_count": 12,
   "metadata": {},
   "outputs": [],
   "source": [
    "for col in test:\n",
    "    if test[col].isna().sum() > 0:\n",
    "        test[col] = test[col].fillna(test[col].mode()[0])"
   ]
  },
  {
   "cell_type": "code",
   "execution_count": 263,
   "metadata": {},
   "outputs": [
    {
     "data": {
      "text/html": [
       "<div>\n",
       "<style scoped>\n",
       "    .dataframe tbody tr th:only-of-type {\n",
       "        vertical-align: middle;\n",
       "    }\n",
       "\n",
       "    .dataframe tbody tr th {\n",
       "        vertical-align: top;\n",
       "    }\n",
       "\n",
       "    .dataframe thead th {\n",
       "        text-align: right;\n",
       "    }\n",
       "</style>\n",
       "<table border=\"1\" class=\"dataframe\">\n",
       "  <thead>\n",
       "    <tr style=\"text-align: right;\">\n",
       "      <th></th>\n",
       "      <th>amount_tsh</th>\n",
       "      <th>date_recorded</th>\n",
       "      <th>funder</th>\n",
       "      <th>gps_height</th>\n",
       "      <th>installer</th>\n",
       "      <th>longitude</th>\n",
       "      <th>latitude</th>\n",
       "      <th>num_private</th>\n",
       "      <th>basin</th>\n",
       "      <th>region</th>\n",
       "      <th>...</th>\n",
       "      <th>payment_type</th>\n",
       "      <th>water_quality</th>\n",
       "      <th>quality_group</th>\n",
       "      <th>quantity</th>\n",
       "      <th>quantity_group</th>\n",
       "      <th>source</th>\n",
       "      <th>source_type</th>\n",
       "      <th>source_class</th>\n",
       "      <th>waterpoint_type</th>\n",
       "      <th>waterpoint_type_group</th>\n",
       "    </tr>\n",
       "  </thead>\n",
       "  <tbody>\n",
       "    <tr>\n",
       "      <td>0</td>\n",
       "      <td>6000.0</td>\n",
       "      <td>1.334615</td>\n",
       "      <td>1.676364</td>\n",
       "      <td>1390</td>\n",
       "      <td>1.287234</td>\n",
       "      <td>34.938093</td>\n",
       "      <td>-9.856322</td>\n",
       "      <td>0</td>\n",
       "      <td>1.356539</td>\n",
       "      <td>1.587646</td>\n",
       "      <td>...</td>\n",
       "      <td>1.572488</td>\n",
       "      <td>1.208706</td>\n",
       "      <td>1.208706</td>\n",
       "      <td>1.376966</td>\n",
       "      <td>1.376966</td>\n",
       "      <td>1.319546</td>\n",
       "      <td>1.319546</td>\n",
       "      <td>1.144495</td>\n",
       "      <td>1.322207</td>\n",
       "      <td>1.236968</td>\n",
       "    </tr>\n",
       "    <tr>\n",
       "      <td>1</td>\n",
       "      <td>0.0</td>\n",
       "      <td>1.318182</td>\n",
       "      <td>1.622642</td>\n",
       "      <td>1399</td>\n",
       "      <td>1.692308</td>\n",
       "      <td>34.698766</td>\n",
       "      <td>-2.147466</td>\n",
       "      <td>0</td>\n",
       "      <td>1.091823</td>\n",
       "      <td>0.930422</td>\n",
       "      <td>...</td>\n",
       "      <td>0.973055</td>\n",
       "      <td>1.208706</td>\n",
       "      <td>1.208706</td>\n",
       "      <td>1.142309</td>\n",
       "      <td>1.142309</td>\n",
       "      <td>1.344662</td>\n",
       "      <td>1.344662</td>\n",
       "      <td>1.208208</td>\n",
       "      <td>1.322207</td>\n",
       "      <td>1.236968</td>\n",
       "    </tr>\n",
       "    <tr>\n",
       "      <td>2</td>\n",
       "      <td>25.0</td>\n",
       "      <td>1.209386</td>\n",
       "      <td>2.000000</td>\n",
       "      <td>686</td>\n",
       "      <td>1.441176</td>\n",
       "      <td>37.460664</td>\n",
       "      <td>-3.821329</td>\n",
       "      <td>0</td>\n",
       "      <td>1.255145</td>\n",
       "      <td>1.307644</td>\n",
       "      <td>...</td>\n",
       "      <td>1.401113</td>\n",
       "      <td>1.208706</td>\n",
       "      <td>1.208706</td>\n",
       "      <td>1.376966</td>\n",
       "      <td>1.376966</td>\n",
       "      <td>0.807927</td>\n",
       "      <td>0.807927</td>\n",
       "      <td>1.208208</td>\n",
       "      <td>0.838604</td>\n",
       "      <td>1.236968</td>\n",
       "    </tr>\n",
       "    <tr>\n",
       "      <td>3</td>\n",
       "      <td>0.0</td>\n",
       "      <td>0.837766</td>\n",
       "      <td>1.228950</td>\n",
       "      <td>263</td>\n",
       "      <td>1.112613</td>\n",
       "      <td>38.486161</td>\n",
       "      <td>-11.155298</td>\n",
       "      <td>0</td>\n",
       "      <td>0.815936</td>\n",
       "      <td>0.678613</td>\n",
       "      <td>...</td>\n",
       "      <td>0.973055</td>\n",
       "      <td>1.208706</td>\n",
       "      <td>1.208706</td>\n",
       "      <td>0.056196</td>\n",
       "      <td>0.056196</td>\n",
       "      <td>1.023476</td>\n",
       "      <td>1.033225</td>\n",
       "      <td>1.144495</td>\n",
       "      <td>0.838604</td>\n",
       "      <td>1.236968</td>\n",
       "    </tr>\n",
       "    <tr>\n",
       "      <td>4</td>\n",
       "      <td>0.0</td>\n",
       "      <td>1.008333</td>\n",
       "      <td>1.158838</td>\n",
       "      <td>0</td>\n",
       "      <td>1.155556</td>\n",
       "      <td>31.130847</td>\n",
       "      <td>-1.825359</td>\n",
       "      <td>0</td>\n",
       "      <td>1.091823</td>\n",
       "      <td>1.133293</td>\n",
       "      <td>...</td>\n",
       "      <td>0.973055</td>\n",
       "      <td>1.208706</td>\n",
       "      <td>1.208706</td>\n",
       "      <td>1.250864</td>\n",
       "      <td>1.250864</td>\n",
       "      <td>1.344662</td>\n",
       "      <td>1.344662</td>\n",
       "      <td>1.208208</td>\n",
       "      <td>1.322207</td>\n",
       "      <td>1.236968</td>\n",
       "    </tr>\n",
       "  </tbody>\n",
       "</table>\n",
       "<p>5 rows × 37 columns</p>\n",
       "</div>"
      ],
      "text/plain": [
       "   amount_tsh  date_recorded    funder  gps_height  installer  longitude  \\\n",
       "0      6000.0       1.334615  1.676364        1390   1.287234  34.938093   \n",
       "1         0.0       1.318182  1.622642        1399   1.692308  34.698766   \n",
       "2        25.0       1.209386  2.000000         686   1.441176  37.460664   \n",
       "3         0.0       0.837766  1.228950         263   1.112613  38.486161   \n",
       "4         0.0       1.008333  1.158838           0   1.155556  31.130847   \n",
       "\n",
       "    latitude  num_private     basin    region  ...  payment_type  \\\n",
       "0  -9.856322            0  1.356539  1.587646  ...      1.572488   \n",
       "1  -2.147466            0  1.091823  0.930422  ...      0.973055   \n",
       "2  -3.821329            0  1.255145  1.307644  ...      1.401113   \n",
       "3 -11.155298            0  0.815936  0.678613  ...      0.973055   \n",
       "4  -1.825359            0  1.091823  1.133293  ...      0.973055   \n",
       "\n",
       "   water_quality  quality_group  quantity  quantity_group    source  \\\n",
       "0       1.208706       1.208706  1.376966        1.376966  1.319546   \n",
       "1       1.208706       1.208706  1.142309        1.142309  1.344662   \n",
       "2       1.208706       1.208706  1.376966        1.376966  0.807927   \n",
       "3       1.208706       1.208706  0.056196        0.056196  1.023476   \n",
       "4       1.208706       1.208706  1.250864        1.250864  1.344662   \n",
       "\n",
       "   source_type  source_class  waterpoint_type  waterpoint_type_group  \n",
       "0     1.319546      1.144495         1.322207               1.236968  \n",
       "1     1.344662      1.208208         1.322207               1.236968  \n",
       "2     0.807927      1.208208         0.838604               1.236968  \n",
       "3     1.033225      1.144495         0.838604               1.236968  \n",
       "4     1.344662      1.208208         1.322207               1.236968  \n",
       "\n",
       "[5 rows x 37 columns]"
      ]
     },
     "execution_count": 263,
     "metadata": {},
     "output_type": "execute_result"
    }
   ],
   "source": [
    "train.head()"
   ]
  },
  {
   "cell_type": "code",
   "execution_count": 23,
   "metadata": {},
   "outputs": [
    {
     "data": {
      "text/plain": [
       "<matplotlib.axes._subplots.AxesSubplot at 0x1a1d257d68>"
      ]
     },
     "execution_count": 23,
     "metadata": {},
     "output_type": "execute_result"
    },
    {
     "data": {
      "image/png": "[encoded data removed]",
      "text/plain": [
       "<Figure size 432x288 with 2 Axes>"
      ]
     },
     "metadata": {
      "needs_background": "light"
     },
     "output_type": "display_data"
    }
   ],
   "source": [
    "sns.heatmap(train.corr())"
   ]
  },
  {
   "cell_type": "code",
   "execution_count": 8,
   "metadata": {},
   "outputs": [],
   "source": [
    "cate = [key for key in dict(train.dtypes) if dict(train.dtypes)[key] in ['object', 'bool']]"
   ]
  },
  {
   "cell_type": "code",
   "execution_count": 168,
   "metadata": {},
   "outputs": [
    {
     "name": "stdout",
     "output_type": "stream",
     "text": [
      "date_recorded\n",
      "356\n",
      "funder\n",
      "1897\n",
      "installer\n",
      "2145\n",
      "wpt_name\n",
      "37400\n",
      "basin\n",
      "9\n",
      "subvillage\n",
      "19287\n",
      "region\n",
      "21\n",
      "lga\n",
      "125\n",
      "ward\n",
      "2092\n",
      "recorded_by\n",
      "1\n",
      "scheme_management\n",
      "12\n",
      "scheme_name\n",
      "2696\n",
      "extraction_type\n",
      "18\n",
      "extraction_type_group\n",
      "13\n",
      "extraction_type_class\n",
      "7\n",
      "management\n",
      "12\n",
      "management_group\n",
      "5\n",
      "payment\n",
      "7\n",
      "payment_type\n",
      "7\n",
      "water_quality\n",
      "8\n",
      "quality_group\n",
      "6\n",
      "quantity\n",
      "5\n",
      "quantity_group\n",
      "5\n",
      "source\n",
      "10\n",
      "source_type\n",
      "7\n",
      "source_class\n",
      "3\n",
      "waterpoint_type\n",
      "7\n",
      "waterpoint_type_group\n",
      "6\n"
     ]
    }
   ],
   "source": [
    "for x in cate:\n",
    "    print(x)\n",
    "    print(train[x].nunique())"
   ]
  },
  {
   "cell_type": "code",
   "execution_count": 13,
   "metadata": {},
   "outputs": [],
   "source": [
    "target = wtarget['status_group']"
   ]
  },
  {
   "cell_type": "code",
   "execution_count": 14,
   "metadata": {},
   "outputs": [
    {
     "data": {
      "text/plain": [
       "0            functional\n",
       "1            functional\n",
       "2            functional\n",
       "3        non functional\n",
       "4            functional\n",
       "              ...      \n",
       "59395        functional\n",
       "59396        functional\n",
       "59397        functional\n",
       "59398        functional\n",
       "59399        functional\n",
       "Name: status_group, Length: 59400, dtype: object"
      ]
     },
     "execution_count": 14,
     "metadata": {},
     "output_type": "execute_result"
    }
   ],
   "source": [
    "target"
   ]
  },
  {
   "cell_type": "code",
   "execution_count": 15,
   "metadata": {},
   "outputs": [],
   "source": [
    "endict = {'functional': 2, 'functional needs repair': 1, 'non functional': 0}"
   ]
  },
  {
   "cell_type": "code",
   "execution_count": 16,
   "metadata": {},
   "outputs": [],
   "source": [
    "target = target.map(endict)"
   ]
  },
  {
   "cell_type": "code",
   "execution_count": 17,
   "metadata": {},
   "outputs": [
    {
     "data": {
      "text/plain": [
       "0        2\n",
       "1        2\n",
       "2        2\n",
       "3        0\n",
       "4        2\n",
       "        ..\n",
       "59395    2\n",
       "59396    2\n",
       "59397    2\n",
       "59398    2\n",
       "59399    2\n",
       "Name: status_group, Length: 59400, dtype: int64"
      ]
     },
     "execution_count": 17,
     "metadata": {},
     "output_type": "execute_result"
    }
   ],
   "source": [
    "target"
   ]
  },
  {
   "cell_type": "code",
   "execution_count": 18,
   "metadata": {},
   "outputs": [],
   "source": [
    "nume = nume + ['wpt_name', 'subvillage']"
   ]
  },
  {
   "cell_type": "code",
   "execution_count": 19,
   "metadata": {},
   "outputs": [
    {
     "data": {
      "text/plain": [
       "['id',\n",
       " 'amount_tsh',\n",
       " 'gps_height',\n",
       " 'longitude',\n",
       " 'latitude',\n",
       " 'num_private',\n",
       " 'region_code',\n",
       " 'district_code',\n",
       " 'population',\n",
       " 'construction_year',\n",
       " 'wpt_name',\n",
       " 'subvillage']"
      ]
     },
     "execution_count": 19,
     "metadata": {},
     "output_type": "execute_result"
    }
   ],
   "source": [
    "nume"
   ]
  },
  {
   "cell_type": "code",
   "execution_count": 20,
   "metadata": {},
   "outputs": [],
   "source": [
    "#Target encoding\n",
    "used_cols = [c for c in train.columns.tolist() if c not in nume]"
   ]
  },
  {
   "cell_type": "code",
   "execution_count": 21,
   "metadata": {},
   "outputs": [
    {
     "data": {
      "text/plain": [
       "TargetEncoder(cols=['date_recorded', 'funder', 'installer', 'basin', 'region',\n",
       "                    'lga', 'ward', 'public_meeting', 'recorded_by',\n",
       "                    'scheme_management', 'scheme_name', 'permit',\n",
       "                    'extraction_type', 'extraction_type_group',\n",
       "                    'extraction_type_class', 'management', 'management_group',\n",
       "                    'payment', 'payment_type', 'water_quality', 'quality_group',\n",
       "                    'quantity', 'quantity_group', 'source', 'source_type',\n",
       "                    'source_class', 'waterpoint_type',\n",
       "                    'waterpoint_type_group'],\n",
       "              drop_invariant=False, handle_missing='value',\n",
       "              handle_unknown='value', min_samples_leaf=1, return_df=True,\n",
       "              smoothing=0.3, verbose=0)"
      ]
     },
     "execution_count": 21,
     "metadata": {},
     "output_type": "execute_result"
    }
   ],
   "source": [
    "ce_target_encoder = ce.TargetEncoder(cols = used_cols, smoothing=.3)\n",
    "ce_target_encoder.fit(train, target)"
   ]
  },
  {
   "cell_type": "code",
   "execution_count": 22,
   "metadata": {},
   "outputs": [],
   "source": [
    "train = ce_target_encoder.transform(train)\n",
    "test = ce_target_encoder.transform(test)"
   ]
  },
  {
   "cell_type": "code",
   "execution_count": null,
   "metadata": {},
   "outputs": [],
   "source": []
  },
  {
   "cell_type": "code",
   "execution_count": 254,
   "metadata": {},
   "outputs": [],
   "source": [
    "\n",
    "# le = LabelEncoder()\n",
    "# train['wpt_name'] = le.fit_transform(train['wpt_name'])\n",
    "# train['subvillage'] = le.fit_transform(train['subvillage'])\n",
    "# test['wpt_name'] = le.fit_transform(test['wpt_name'])\n",
    "# test['subvillage'] = le.fit_transform(test['subvillage'])"
   ]
  },
  {
   "cell_type": "code",
   "execution_count": null,
   "metadata": {},
   "outputs": [],
   "source": []
  },
  {
   "cell_type": "code",
   "execution_count": 45,
   "metadata": {},
   "outputs": [
    {
     "name": "stdout",
     "output_type": "stream",
     "text": [
      "<class 'pandas.core.frame.DataFrame'>\n",
      "RangeIndex: 59400 entries, 0 to 59399\n",
      "Data columns (total 40 columns):\n",
      "id                       59400 non-null int64\n",
      "amount_tsh               59400 non-null float64\n",
      "date_recorded            59400 non-null float64\n",
      "funder                   59400 non-null float64\n",
      "gps_height               59400 non-null int64\n",
      "installer                59400 non-null float64\n",
      "longitude                59400 non-null float64\n",
      "latitude                 59400 non-null float64\n",
      "wpt_name                 59400 non-null float64\n",
      "num_private              59400 non-null int64\n",
      "basin                    59400 non-null float64\n",
      "subvillage               59400 non-null float64\n",
      "region                   59400 non-null float64\n",
      "region_code              59400 non-null int64\n",
      "district_code            59400 non-null int64\n",
      "lga                      59400 non-null float64\n",
      "ward                     59400 non-null float64\n",
      "population               59400 non-null int64\n",
      "public_meeting           59400 non-null float64\n",
      "recorded_by              59400 non-null float64\n",
      "scheme_management        59400 non-null float64\n",
      "scheme_name              59400 non-null float64\n",
      "permit                   59400 non-null float64\n",
      "construction_year        59400 non-null int64\n",
      "extraction_type          59400 non-null float64\n",
      "extraction_type_group    59400 non-null float64\n",
      "extraction_type_class    59400 non-null float64\n",
      "management               59400 non-null float64\n",
      "management_group         59400 non-null float64\n",
      "payment                  59400 non-null float64\n",
      "payment_type             59400 non-null float64\n",
      "water_quality            59400 non-null float64\n",
      "quality_group            59400 non-null float64\n",
      "quantity                 59400 non-null float64\n",
      "quantity_group           59400 non-null float64\n",
      "source                   59400 non-null float64\n",
      "source_type              59400 non-null float64\n",
      "source_class             59400 non-null float64\n",
      "waterpoint_type          59400 non-null float64\n",
      "waterpoint_type_group    59400 non-null float64\n",
      "dtypes: float64(33), int64(7)\n",
      "memory usage: 18.1 MB\n"
     ]
    }
   ],
   "source": [
    "train.info()"
   ]
  },
  {
   "cell_type": "code",
   "execution_count": 23,
   "metadata": {},
   "outputs": [],
   "source": [
    "#These columns caused model to over fit so they are dropped\n",
    "train = train.drop('id', axis = 1)\n",
    "test = test.drop('id', axis = 1)\n",
    "train = train.drop('wpt_name', axis = 1)\n",
    "test = test.drop('wpt_name', axis = 1)\n",
    "train = train.drop('subvillage', axis = 1)\n",
    "test = test.drop('subvillage', axis = 1)\n"
   ]
  },
  {
   "cell_type": "code",
   "execution_count": 47,
   "metadata": {},
   "outputs": [
    {
     "data": {
      "image/png": "[encoded data removed]",
      "text/plain": [
       "<Figure size 864x1296 with 1 Axes>"
      ]
     },
     "metadata": {
      "needs_background": "light"
     },
     "output_type": "display_data"
    }
   ],
   "source": [
    "clf = xgb.XGBClassifier(max_depth=11, n_estimators=300, colsample_bytree=0.8, \n",
    "                        subsample=0.8, nthread=10, learning_rate=.1, n_jobs = -1)\n",
    "clf.fit(train, target)\n",
    "# plot the important features #\n",
    "fig, ax = plt.subplots(figsize=(12,18))\n",
    "xgb.plot_importance(clf, max_num_features=50, height=0.8, ax=ax)\n",
    "plt.show()"
   ]
  },
  {
   "cell_type": "code",
   "execution_count": 306,
   "metadata": {},
   "outputs": [],
   "source": [
    "xtrain, xvalid, ytrain, yvalid = train_test_split(train, target, \n",
    "                                                  stratify=target, \n",
    "                                                  random_state=42, \n",
    "                                                  test_size=0.1, shuffle=True)"
   ]
  },
  {
   "cell_type": "code",
   "execution_count": 307,
   "metadata": {},
   "outputs": [
    {
     "name": "stdout",
     "output_type": "stream",
     "text": [
      "accuracy_score 0.8710437710437711\n"
     ]
    }
   ],
   "source": [
    "predictions = clf.predict(xvalid)\n",
    "print(\"accuracy_score\",accuracy_score(yvalid, predictions))\n",
    "# print(\"auc\",roc_auc_score(yvalid, predictions))\n",
    "# xg = [clf.__class__,accuracy_score(yvalid, predictions),roc_auc_score(yvalid, predictions)]\n"
   ]
  },
  {
   "cell_type": "code",
   "execution_count": 29,
   "metadata": {},
   "outputs": [
    {
     "name": "stdout",
     "output_type": "stream",
     "text": [
      "0.8212289320350159 +/- 0.0024524125608764782\n"
     ]
    }
   ],
   "source": [
    "scores = cross_val_score(clf, train, target, cv=5, scoring='accuracy') \n",
    "print(scores.mean(), \"+/-\", scores.std())"
   ]
  },
  {
   "cell_type": "code",
   "execution_count": null,
   "metadata": {},
   "outputs": [],
   "source": []
  },
  {
   "cell_type": "code",
   "execution_count": 302,
   "metadata": {},
   "outputs": [
    {
     "data": {
      "text/plain": [
       "GridSearchCV(cv=5, error_score='raise-deprecating',\n",
       "             estimator=XGBClassifier(base_score=0.5, booster='gbtree',\n",
       "                                     colsample_bylevel=1, colsample_bynode=1,\n",
       "                                     colsample_bytree=0.8, gamma=0,\n",
       "                                     learning_rate=0.1, max_delta_step=0,\n",
       "                                     max_depth=7, min_child_weight=1,\n",
       "                                     missing=None, n_estimators=200, n_jobs=1,\n",
       "                                     nthread=10, objective='multi:softprob',\n",
       "                                     random_state=0, reg_alpha=0, reg_lambda=1,\n",
       "                                     scale_pos_weight=1, seed=None, silent=None,\n",
       "                                     subsample=0.8, verbosity=1),\n",
       "             iid='warn', n_jobs=-1,\n",
       "             param_grid={'learning_rate': [0.03, 0.1, 0.3],\n",
       "                         'max_depth': [4, 6, 10],\n",
       "                         'n_estimators': [50, 100, 200]},\n",
       "             pre_dispatch='2*n_jobs', refit=True, return_train_score=False,\n",
       "             scoring='accuracy', verbose=0)"
      ]
     },
     "execution_count": 302,
     "metadata": {},
     "output_type": "execute_result"
    }
   ],
   "source": [
    "grid_p = {\"n_estimators\": [100, 200, 300],\n",
    "          \"learning_rate\": [.03, .1, .3],\n",
    "          \"max_depth\": [8, 10, 12]}\n",
    "\n",
    "grid_search = GridSearchCV(clf, grid_p, n_jobs=-1, cv=5, scoring='accuracy')\n",
    "grid_search.fit(train, target)"
   ]
  },
  {
   "cell_type": "code",
   "execution_count": 303,
   "metadata": {},
   "outputs": [
    {
     "data": {
      "text/plain": [
       "0.820942760942761"
      ]
     },
     "execution_count": 303,
     "metadata": {},
     "output_type": "execute_result"
    }
   ],
   "source": [
    "grid_search.best_score_"
   ]
  },
  {
   "cell_type": "code",
   "execution_count": 304,
   "metadata": {},
   "outputs": [
    {
     "data": {
      "text/plain": [
       "{'learning_rate': 0.1, 'max_depth': 10, 'n_estimators': 200}"
      ]
     },
     "execution_count": 304,
     "metadata": {},
     "output_type": "execute_result"
    }
   ],
   "source": [
    "grid_search.best_params_"
   ]
  },
  {
   "cell_type": "code",
   "execution_count": null,
   "metadata": {},
   "outputs": [],
   "source": []
  },
  {
   "cell_type": "code",
   "execution_count": 48,
   "metadata": {},
   "outputs": [],
   "source": [
    "predictions = clf.predict(test)"
   ]
  },
  {
   "cell_type": "code",
   "execution_count": 49,
   "metadata": {},
   "outputs": [],
   "source": [
    "pred_dict = {2: 'functional',1: 'functional needs repair', 0:'non functional'}"
   ]
  },
  {
   "cell_type": "code",
   "execution_count": 50,
   "metadata": {},
   "outputs": [],
   "source": [
    "submit = pd.DataFrame()"
   ]
  },
  {
   "cell_type": "code",
   "execution_count": 51,
   "metadata": {},
   "outputs": [],
   "source": [
    "sf = pd.read_csv('SubmissionFormat.csv')"
   ]
  },
  {
   "cell_type": "code",
   "execution_count": 52,
   "metadata": {},
   "outputs": [],
   "source": [
    "submit['id'] = sf['id']\n",
    "submit['status_group'] = predictions"
   ]
  },
  {
   "cell_type": "code",
   "execution_count": 53,
   "metadata": {},
   "outputs": [],
   "source": [
    "submit['status_group'] = submit['status_group'].map(pred_dict)"
   ]
  },
  {
   "cell_type": "code",
   "execution_count": 54,
   "metadata": {},
   "outputs": [
    {
     "data": {
      "text/html": [
       "<div>\n",
       "<style scoped>\n",
       "    .dataframe tbody tr th:only-of-type {\n",
       "        vertical-align: middle;\n",
       "    }\n",
       "\n",
       "    .dataframe tbody tr th {\n",
       "        vertical-align: top;\n",
       "    }\n",
       "\n",
       "    .dataframe thead th {\n",
       "        text-align: right;\n",
       "    }\n",
       "</style>\n",
       "<table border=\"1\" class=\"dataframe\">\n",
       "  <thead>\n",
       "    <tr style=\"text-align: right;\">\n",
       "      <th></th>\n",
       "      <th>id</th>\n",
       "      <th>status_group</th>\n",
       "    </tr>\n",
       "  </thead>\n",
       "  <tbody>\n",
       "    <tr>\n",
       "      <td>0</td>\n",
       "      <td>50785</td>\n",
       "      <td>non functional</td>\n",
       "    </tr>\n",
       "    <tr>\n",
       "      <td>1</td>\n",
       "      <td>51630</td>\n",
       "      <td>functional</td>\n",
       "    </tr>\n",
       "    <tr>\n",
       "      <td>2</td>\n",
       "      <td>17168</td>\n",
       "      <td>functional</td>\n",
       "    </tr>\n",
       "    <tr>\n",
       "      <td>3</td>\n",
       "      <td>45559</td>\n",
       "      <td>non functional</td>\n",
       "    </tr>\n",
       "    <tr>\n",
       "      <td>4</td>\n",
       "      <td>49871</td>\n",
       "      <td>functional</td>\n",
       "    </tr>\n",
       "    <tr>\n",
       "      <td>5</td>\n",
       "      <td>52449</td>\n",
       "      <td>functional</td>\n",
       "    </tr>\n",
       "    <tr>\n",
       "      <td>6</td>\n",
       "      <td>24806</td>\n",
       "      <td>functional</td>\n",
       "    </tr>\n",
       "    <tr>\n",
       "      <td>7</td>\n",
       "      <td>28965</td>\n",
       "      <td>non functional</td>\n",
       "    </tr>\n",
       "    <tr>\n",
       "      <td>8</td>\n",
       "      <td>36301</td>\n",
       "      <td>non functional</td>\n",
       "    </tr>\n",
       "    <tr>\n",
       "      <td>9</td>\n",
       "      <td>54122</td>\n",
       "      <td>functional</td>\n",
       "    </tr>\n",
       "    <tr>\n",
       "      <td>10</td>\n",
       "      <td>419</td>\n",
       "      <td>functional</td>\n",
       "    </tr>\n",
       "    <tr>\n",
       "      <td>11</td>\n",
       "      <td>45750</td>\n",
       "      <td>non functional</td>\n",
       "    </tr>\n",
       "    <tr>\n",
       "      <td>12</td>\n",
       "      <td>653</td>\n",
       "      <td>non functional</td>\n",
       "    </tr>\n",
       "    <tr>\n",
       "      <td>13</td>\n",
       "      <td>14017</td>\n",
       "      <td>non functional</td>\n",
       "    </tr>\n",
       "    <tr>\n",
       "      <td>14</td>\n",
       "      <td>44607</td>\n",
       "      <td>functional</td>\n",
       "    </tr>\n",
       "    <tr>\n",
       "      <td>15</td>\n",
       "      <td>40228</td>\n",
       "      <td>functional</td>\n",
       "    </tr>\n",
       "    <tr>\n",
       "      <td>16</td>\n",
       "      <td>27714</td>\n",
       "      <td>functional</td>\n",
       "    </tr>\n",
       "    <tr>\n",
       "      <td>17</td>\n",
       "      <td>28785</td>\n",
       "      <td>non functional</td>\n",
       "    </tr>\n",
       "    <tr>\n",
       "      <td>18</td>\n",
       "      <td>28330</td>\n",
       "      <td>functional</td>\n",
       "    </tr>\n",
       "    <tr>\n",
       "      <td>19</td>\n",
       "      <td>18532</td>\n",
       "      <td>non functional</td>\n",
       "    </tr>\n",
       "    <tr>\n",
       "      <td>20</td>\n",
       "      <td>69961</td>\n",
       "      <td>functional</td>\n",
       "    </tr>\n",
       "    <tr>\n",
       "      <td>21</td>\n",
       "      <td>55083</td>\n",
       "      <td>non functional</td>\n",
       "    </tr>\n",
       "    <tr>\n",
       "      <td>22</td>\n",
       "      <td>8691</td>\n",
       "      <td>non functional</td>\n",
       "    </tr>\n",
       "    <tr>\n",
       "      <td>23</td>\n",
       "      <td>30331</td>\n",
       "      <td>non functional</td>\n",
       "    </tr>\n",
       "    <tr>\n",
       "      <td>24</td>\n",
       "      <td>70970</td>\n",
       "      <td>functional</td>\n",
       "    </tr>\n",
       "    <tr>\n",
       "      <td>25</td>\n",
       "      <td>61136</td>\n",
       "      <td>functional</td>\n",
       "    </tr>\n",
       "    <tr>\n",
       "      <td>26</td>\n",
       "      <td>28799</td>\n",
       "      <td>non functional</td>\n",
       "    </tr>\n",
       "    <tr>\n",
       "      <td>27</td>\n",
       "      <td>46825</td>\n",
       "      <td>non functional</td>\n",
       "    </tr>\n",
       "    <tr>\n",
       "      <td>28</td>\n",
       "      <td>44718</td>\n",
       "      <td>functional needs repair</td>\n",
       "    </tr>\n",
       "    <tr>\n",
       "      <td>29</td>\n",
       "      <td>37350</td>\n",
       "      <td>non functional</td>\n",
       "    </tr>\n",
       "  </tbody>\n",
       "</table>\n",
       "</div>"
      ],
      "text/plain": [
       "       id             status_group\n",
       "0   50785           non functional\n",
       "1   51630               functional\n",
       "2   17168               functional\n",
       "3   45559           non functional\n",
       "4   49871               functional\n",
       "5   52449               functional\n",
       "6   24806               functional\n",
       "7   28965           non functional\n",
       "8   36301           non functional\n",
       "9   54122               functional\n",
       "10    419               functional\n",
       "11  45750           non functional\n",
       "12    653           non functional\n",
       "13  14017           non functional\n",
       "14  44607               functional\n",
       "15  40228               functional\n",
       "16  27714               functional\n",
       "17  28785           non functional\n",
       "18  28330               functional\n",
       "19  18532           non functional\n",
       "20  69961               functional\n",
       "21  55083           non functional\n",
       "22   8691           non functional\n",
       "23  30331           non functional\n",
       "24  70970               functional\n",
       "25  61136               functional\n",
       "26  28799           non functional\n",
       "27  46825           non functional\n",
       "28  44718  functional needs repair\n",
       "29  37350           non functional"
      ]
     },
     "execution_count": 54,
     "metadata": {},
     "output_type": "execute_result"
    }
   ],
   "source": [
    "submit.head(30)"
   ]
  },
  {
   "cell_type": "code",
   "execution_count": 55,
   "metadata": {},
   "outputs": [],
   "source": [
    "submit.to_csv('TWWsubmission.csv', index = False)"
   ]
  },
  {
   "cell_type": "code",
   "execution_count": null,
   "metadata": {},
   "outputs": [],
   "source": [
    "#Submission score: .8183\n",
    "#Current rank 664 / 8268"
   ]
  }
 ],
 "metadata": {
  "kernelspec": {
   "display_name": "Python 3",
   "language": "python",
   "name": "python3"
  },
  "language_info": {
   "codemirror_mode": {
    "name": "ipython",
    "version": 3
   },
   "file_extension": ".py",
   "mimetype": "text/x-python",
   "name": "python",
   "nbconvert_exporter": "python",
   "pygments_lexer": "ipython3",
   "version": "3.6.9"
  }
 },
 "nbformat": 4,
 "nbformat_minor": 4
}
